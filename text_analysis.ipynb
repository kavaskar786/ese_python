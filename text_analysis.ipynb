{
 "cells": [
  {
   "cell_type": "code",
   "execution_count": 13,
   "metadata": {},
   "outputs": [
    {
     "name": "stderr",
     "output_type": "stream",
     "text": [
      "[nltk_data] Downloading package wordnet to\n",
      "[nltk_data]     C:\\Users\\kavas\\AppData\\Roaming\\nltk_data...\n",
      "[nltk_data]   Package wordnet is already up-to-date!\n"
     ]
    },
    {
     "name": "stdout",
     "output_type": "stream",
     "text": [
      "0                  [absolut, wonder, silki, sexi, comfort]\n",
      "1        [love, dress, s, sooo, pretti, happen, find, s...\n",
      "2        [high, hope, dress, realli, want, work, initi,...\n",
      "3        [love, love, love, jumpsuit, s, fun, flirti, f...\n",
      "4        [shirt, flatter, due, adjust, front, tie, perf...\n",
      "                               ...                        \n",
      "23481    [happi, snag, dress, great, price, s, easi, sl...\n",
      "23482    [remind, matern, cloth, soft, stretchi, shini,...\n",
      "23483    [fit, well, top, see, never, would, work, m, g...\n",
      "23484    [bought, dress, wed, summer, s, cute, unfortun...\n",
      "23485    [dress, love, platinum, feminin, fit, perfectl...\n",
      "Name: Review Text, Length: 23486, dtype: object\n"
     ]
    }
   ],
   "source": [
    "import pandas as pd\n",
    "import nltk\n",
    "from nltk.corpus import stopwords\n",
    "from nltk.tokenize import word_tokenize\n",
    "from nltk.stem import PorterStemmer\n",
    "from nltk.stem import WordNetLemmatizer\n",
    "import string\n",
    "\n",
    "nltk.download('wordnet')\n",
    "\n",
    "df = pd.read_csv(\"WomensClothingE-CommerceReviews.csv\")  # Replace \"your_dataset.csv\" with the path to your CSV file\n",
    "\n",
    "stemmer = PorterStemmer()\n",
    "lemmatizer = WordNetLemmatizer()\n",
    "\n",
    "def preprocess_text(text):\n",
    "    if isinstance(text, str):\n",
    "\n",
    "        tokens = word_tokenize(text)\n",
    "\n",
    "        tokens = [word.lower() for word in tokens]\n",
    "\n",
    "        stop_words = set(stopwords.words('english'))\n",
    "        tokens = [word for word in tokens if word not in stop_words]\n",
    " \n",
    "        tokens = [word.translate(str.maketrans('', '', string.punctuation)) for word in tokens]\n",
    "\n",
    "        tokens = [word for word in tokens if word.strip()]\n",
    "\n",
    "        stemmed_tokens = [stemmer.stem(word) for word in tokens]\n",
    "\n",
    "        lemmatized_tokens = [lemmatizer.lemmatize(word) for word in stemmed_tokens]\n",
    "        \n",
    "        return lemmatized_tokens\n",
    "    else:\n",
    "        return []\n",
    "\n",
    "df['Review Text'] = df['Review Text'].apply(preprocess_text)\n",
    "\n",
    "print(df['Review Text'])\n"
   ]
  },
  {
   "cell_type": "code",
   "execution_count": 15,
   "metadata": {},
   "outputs": [
    {
     "name": "stdout",
     "output_type": "stream",
     "text": [
      "Review 79: Similar to [151, 954, 5876]\n",
      "Review 151: Similar to [79, 954, 5876]\n",
      "Review 215: Similar to [4555]\n",
      "Review 245: Similar to [3456]\n",
      "Review 954: Similar to [79, 151, 5876]\n",
      "Review 1437: Similar to [1916, 3420, 4925, 5030]\n",
      "Review 1916: Similar to [1437, 2670, 3420, 3944, 4925, 5030]\n",
      "Review 2284: Similar to [7868]\n",
      "Review 2670: Similar to [1916, 3420, 4925, 5030]\n",
      "Review 3157: Similar to [7567]\n",
      "Review 3420: Similar to [1437, 1916, 2670, 3944, 4925, 5030]\n",
      "Review 3456: Similar to [245]\n",
      "Review 3602: Similar to [4961]\n",
      "Review 3895: Similar to [4403]\n",
      "Review 3944: Similar to [1916, 3420, 4925, 5030]\n",
      "Review 4023: Similar to [4630]\n",
      "Review 4403: Similar to [3895]\n",
      "Review 4555: Similar to [215]\n",
      "Review 4630: Similar to [4023]\n",
      "Review 4925: Similar to [1437, 1916, 2670, 3420, 3944, 5030]\n",
      "Review 4961: Similar to [3602]\n",
      "Review 5030: Similar to [1437, 1916, 2670, 3420, 3944, 4925]\n",
      "Review 5876: Similar to [79, 151, 954]\n",
      "Review 7567: Similar to [3157]\n",
      "Review 7868: Similar to [2284]\n"
     ]
    }
   ],
   "source": [
    "from sklearn.feature_extraction.text import TfidfVectorizer\n",
    "from sklearn.metrics.pairwise import cosine_similarity\n",
    "\n",
    "filtered_df = df[df['Division Name'].isin(['General Petite', 'Intimates'])]\n",
    "\n",
    "tokenized_texts = filtered_df['Review Text'].apply(lambda x: ' '.join(x))\n",
    "\n",
    "tfidf_vectorizer = TfidfVectorizer()\n",
    "tfidf_matrix = tfidf_vectorizer.fit_transform(tokenized_texts)\n",
    "\n",
    "cosine_sim = cosine_similarity(tfidf_matrix, tfidf_matrix)\n",
    "\n",
    "def identify_similar_reviews(similarity_matrix, threshold=0.7):\n",
    "    similar_reviews = {}\n",
    "    for i in range(len(similarity_matrix)):\n",
    "        similar_reviews[i] = [j for j, score in enumerate(similarity_matrix[i]) if score > threshold and j != i]\n",
    "    return similar_reviews\n",
    "\n",
    "similar_reviews = identify_similar_reviews(cosine_sim)\n",
    "\n",
    "for i, similar_list in similar_reviews.items():\n",
    "    if similar_list:\n",
    "        print(f\"Review {i}: Similar to {similar_list}\")\n"
   ]
  }
 ],
 "metadata": {
  "kernelspec": {
   "display_name": "Python 3",
   "language": "python",
   "name": "python3"
  },
  "language_info": {
   "codemirror_mode": {
    "name": "ipython",
    "version": 3
   },
   "file_extension": ".py",
   "mimetype": "text/x-python",
   "name": "python",
   "nbconvert_exporter": "python",
   "pygments_lexer": "ipython3",
   "version": "3.8.10"
  }
 },
 "nbformat": 4,
 "nbformat_minor": 2
}
